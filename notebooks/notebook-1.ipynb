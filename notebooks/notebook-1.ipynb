{
 "cells": [
  {
   "cell_type": "code",
   "execution_count": 1,
   "outputs": [
    {
     "name": "stderr",
     "output_type": "stream",
     "text": [
      "23/11/20 11:34:13 WARN Utils: Your hostname, abdou-Nitro-AN515-55 resolves to a loopback address: 127.0.1.1; using 10.188.49.204 instead (on interface wlp0s20f3)\n",
      "23/11/20 11:34:13 WARN Utils: Set SPARK_LOCAL_IP if you need to bind to another address\n",
      "Setting default log level to \"WARN\".\n",
      "To adjust logging level use sc.setLogLevel(newLevel). For SparkR, use setLogLevel(newLevel).\n",
      "23/11/20 11:34:14 WARN NativeCodeLoader: Unable to load native-hadoop library for your platform... using builtin-java classes where applicable\n"
     ]
    }
   ],
   "source": [
    "import os\n",
    "import sys\n",
    "\n",
    "os.environ[\"PYSPARK_PYTHON\"] = sys.executable\n",
    "os.environ[\"PYSPARK_DRIVER_PYTHON\"] = sys.executable\n",
    "\n",
    "from pyspark import SparkContext, SparkConf\n",
    "\n",
    "#We can create a SparkConf() object and use it to initialize the spark context\n",
    "conf = SparkConf().setAppName(\"Notebook 1\").setMaster(\"local[4]\") #Initialize spark context using 4 local cores as workers\n",
    "sc = SparkContext(conf=conf)    \n",
    "\n",
    "from pyspark.rdd import RDD"
   ],
   "metadata": {
    "collapsed": false,
    "ExecuteTime": {
     "end_time": "2023-11-20T10:34:15.336585268Z",
     "start_time": "2023-11-20T10:34:11.976670511Z"
    }
   },
   "id": "initial_id"
  },
  {
   "cell_type": "code",
   "execution_count": 2,
   "outputs": [],
   "source": [
    "def pretty_print_plan(rdd):\n",
    "    for x in rdd.toDebugString().decode().split('\\n'):\n",
    "        print(x)"
   ],
   "metadata": {
    "collapsed": false,
    "ExecuteTime": {
     "end_time": "2023-11-20T10:34:15.340978514Z",
     "start_time": "2023-11-20T10:34:15.338520695Z"
    }
   },
   "id": "4345573994a14182"
  },
  {
   "cell_type": "markdown",
   "source": [
    "## The Moby Dick text\n",
    "\n",
    "![MobyDick](https://m.media-amazon.com/images/I/91xMMAxMS1L._SL1500_.jpg)\n",
    "\n",
    "And so begins an incredible odyssey that will take ship, sailors and readers to the edge of darkness. Moby Dick\" is an epic tragedy of terrible dramatic power, the endless, desperate quest of the captain of a drunken ship on a voyage of no return."
   ],
   "metadata": {
    "collapsed": false
   },
   "id": "efe07bf00aa931fc"
  },
  {
   "cell_type": "markdown",
   "source": [
    "### Words Count"
   ],
   "metadata": {
    "collapsed": false
   },
   "id": "8b66e9c16157af32"
  },
  {
   "cell_type": "code",
   "execution_count": 3,
   "outputs": [
    {
     "name": "stdout",
     "output_type": "stream",
     "text": [
      "CPU times: user 992 µs, sys: 0 ns, total: 992 µs\n",
      "Wall time: 470 ms\n"
     ]
    },
    {
     "data": {
      "text/plain": "pyspark.rdd.RDD"
     },
     "execution_count": 3,
     "metadata": {},
     "output_type": "execute_result"
    }
   ],
   "source": [
    "%%time\n",
    "text_file = sc.textFile(\"../data/mobydick.txt\")\n",
    "type(text_file)"
   ],
   "metadata": {
    "collapsed": false,
    "ExecuteTime": {
     "end_time": "2023-11-20T10:34:15.823841614Z",
     "start_time": "2023-11-20T10:34:15.340832030Z"
    }
   },
   "id": "edf7fbaceb43100"
  },
  {
   "cell_type": "code",
   "execution_count": 4,
   "outputs": [
    {
     "name": "stdout",
     "output_type": "stream",
     "text": [
      "CPU times: user 1.56 ms, sys: 117 µs, total: 1.67 ms\n",
      "Wall time: 18.7 ms\n"
     ]
    }
   ],
   "source": [
    "%%time\n",
    "words = text_file.flatMap(lambda line: line.split(\" \"))"
   ],
   "metadata": {
    "collapsed": false,
    "ExecuteTime": {
     "end_time": "2023-11-20T10:34:15.896084268Z",
     "start_time": "2023-11-20T10:34:15.821993453Z"
    }
   },
   "id": "b056a230a64170e6"
  },
  {
   "cell_type": "code",
   "execution_count": 5,
   "outputs": [
    {
     "name": "stdout",
     "output_type": "stream",
     "text": [
      "CPU times: user 51 µs, sys: 64 µs, total: 115 µs\n",
      "Wall time: 119 µs\n"
     ]
    }
   ],
   "source": [
    "%%time\n",
    "not_empty = words.filter(lambda x: x!=\"\")"
   ],
   "metadata": {
    "collapsed": false,
    "ExecuteTime": {
     "end_time": "2023-11-20T10:34:15.910515843Z",
     "start_time": "2023-11-20T10:34:15.846574812Z"
    }
   },
   "id": "d082b343cc0a7cc"
  },
  {
   "cell_type": "code",
   "execution_count": 6,
   "outputs": [
    {
     "name": "stdout",
     "output_type": "stream",
     "text": [
      "CPU times: user 3.37 ms, sys: 5.64 ms, total: 9.01 ms\n",
      "Wall time: 143 ms\n"
     ]
    }
   ],
   "source": [
    "%%time\n",
    "key_val = not_empty.map(lambda x: (x, 1))\n",
    "counts= key_val.reduceByKey(lambda x1, x2: x1+x2)"
   ],
   "metadata": {
    "collapsed": false,
    "ExecuteTime": {
     "end_time": "2023-11-20T10:34:16.029068384Z",
     "start_time": "2023-11-20T10:34:15.849311988Z"
    }
   },
   "id": "1ea463618f5ffb9c"
  },
  {
   "cell_type": "code",
   "execution_count": 7,
   "outputs": [
    {
     "name": "stderr",
     "output_type": "stream",
     "text": [
      "[Stage 0:>                                                          (0 + 2) / 2]\r"
     ]
    },
    {
     "name": "stdout",
     "output_type": "stream",
     "text": [
      "number of different words = 19840 number of words = 115314 nb of occurence per word = 5.81\n",
      "CPU times: user 11.4 ms, sys: 0 ns, total: 11.4 ms\n",
      "Wall time: 1.58 s\n"
     ]
    },
    {
     "name": "stderr",
     "output_type": "stream",
     "text": [
      "                                                                                \r"
     ]
    }
   ],
   "source": [
    "%%time\n",
    "## get the number of different words\n",
    "diff_words = counts.count()\n",
    "## get the number of words\n",
    "nb_words = counts.map(lambda x: x[1]).reduce(lambda x, y: x+y)\n",
    "\n",
    "print(f\"number of different words = {diff_words} number of words = {nb_words} nb of occurence per word = {round(nb_words / diff_words, 2)}\")"
   ],
   "metadata": {
    "collapsed": false,
    "ExecuteTime": {
     "end_time": "2023-11-20T10:34:17.580983560Z",
     "start_time": "2023-11-20T10:34:16.045605054Z"
    }
   },
   "id": "f353676b64e9d67d"
  },
  {
   "cell_type": "markdown",
   "source": [
    "### Most common words"
   ],
   "metadata": {
    "collapsed": false
   },
   "id": "af5ecac24524412"
  },
  {
   "cell_type": "code",
   "execution_count": 8,
   "outputs": [
    {
     "name": "stdout",
     "output_type": "stream",
     "text": [
      "CPU times: user 9.81 ms, sys: 1.79 ms, total: 11.6 ms\n",
      "Wall time: 122 ms\n"
     ]
    }
   ],
   "source": [
    "%%time\n",
    "## Pythonic way\n",
    "p_data = counts.collect()"
   ],
   "metadata": {
    "collapsed": false,
    "ExecuteTime": {
     "end_time": "2023-11-20T10:34:17.719767513Z",
     "start_time": "2023-11-20T10:34:17.582621748Z"
    }
   },
   "id": "14b6f23de8329a14"
  },
  {
   "cell_type": "code",
   "execution_count": 9,
   "outputs": [
    {
     "name": "stdout",
     "output_type": "stream",
     "text": [
      "Most common words in Moby Dick:\n",
      "\n",
      "the:\t6611\n",
      "of:\t3460\n",
      "and:\t2969\n",
      "a:\t2466\n",
      "to:\t2339\n",
      "CPU times: user 2.68 ms, sys: 0 ns, total: 2.68 ms\n",
      "Wall time: 2.68 ms\n"
     ]
    }
   ],
   "source": [
    "%%time\n",
    "p_data.sort(key=lambda x: x[1])\n",
    "print(\"Most common words in Moby Dick:\\n\\n\"+\"\\n\".join(['%s:\\t%d'%c for c in reversed(p_data[-5:])]))"
   ],
   "metadata": {
    "collapsed": false,
    "ExecuteTime": {
     "end_time": "2023-11-20T10:34:17.721109511Z",
     "start_time": "2023-11-20T10:34:17.711540267Z"
    }
   },
   "id": "95845b5291d3ae00"
  },
  {
   "cell_type": "markdown",
   "source": [
    "We can do the stuff on the head node using old python methods but... it doesn't scale if we have HUGE Data\n",
    "\n",
    "---\n",
    "\n",
    "We are gonna use PySpark RDDs to add this scalable feature"
   ],
   "metadata": {
    "collapsed": false
   },
   "id": "7763cf6a143f5d25"
  },
  {
   "cell_type": "code",
   "execution_count": 10,
   "outputs": [
    {
     "name": "stdout",
     "output_type": "stream",
     "text": [
      "CPU times: user 14.1 ms, sys: 0 ns, total: 14.1 ms\n",
      "Wall time: 240 ms\n"
     ]
    }
   ],
   "source": [
    "%%time\n",
    "# spark way\n",
    "reversed_counts = counts.map(lambda x: (x[1], x[0]))\n",
    "sorted_counts = reversed_counts.sortByKey(ascending=False)"
   ],
   "metadata": {
    "collapsed": false,
    "ExecuteTime": {
     "end_time": "2023-11-20T10:34:17.961732369Z",
     "start_time": "2023-11-20T10:34:17.718689040Z"
    }
   },
   "id": "111d4e1011108c42"
  },
  {
   "cell_type": "code",
   "execution_count": 11,
   "outputs": [
    {
     "name": "stdout",
     "output_type": "stream",
     "text": [
      "(2) PythonRDD[15] at RDD at PythonRDD.scala:53 []\n",
      " |  MapPartitionsRDD[14] at mapPartitions at PythonRDD.scala:160 []\n",
      " |  ShuffledRDD[13] at partitionBy at NativeMethodAccessorImpl.java:0 []\n",
      " +-(2) PairwiseRDD[12] at sortByKey at <timed exec>:3 []\n",
      "    |  PythonRDD[11] at sortByKey at <timed exec>:3 []\n",
      "    |  MapPartitionsRDD[5] at mapPartitions at PythonRDD.scala:160 []\n",
      "    |  ShuffledRDD[4] at partitionBy at NativeMethodAccessorImpl.java:0 []\n",
      "    +-(2) PairwiseRDD[3] at reduceByKey at <timed exec>:2 []\n",
      "       |  PythonRDD[2] at reduceByKey at <timed exec>:2 []\n",
      "       |  ../data/mobydick.txt MapPartitionsRDD[1] at textFile at NativeMethodAccessorImpl.java:0 []\n",
      "       |  ../data/mobydick.txt HadoopRDD[0] at textFile at NativeMethodAccessorImpl.java:0 []\n"
     ]
    }
   ],
   "source": [
    "## Execution plan of the ops\n",
    "pretty_print_plan(sorted_counts)"
   ],
   "metadata": {
    "collapsed": false,
    "ExecuteTime": {
     "end_time": "2023-11-20T10:34:17.979128593Z",
     "start_time": "2023-11-20T10:34:17.963729931Z"
    }
   },
   "id": "65a6c499c9d830"
  },
  {
   "cell_type": "code",
   "execution_count": 12,
   "outputs": [
    {
     "name": "stdout",
     "output_type": "stream",
     "text": [
      "MOst 10 common words in Moby Dick:\n",
      "the\t:\t\t\t6611\n",
      "of\t:\t\t\t3460\n",
      "and\t:\t\t\t2969\n",
      "a\t:\t\t\t2466\n",
      "to\t:\t\t\t2339\n",
      "in\t:\t\t\t1969\n",
      ";\t:\t\t\t1949\n",
      "that\t:\t\t\t1430\n",
      "his\t:\t\t\t1275\n",
      "I\t:\t\t\t1180\n",
      "CPU times: user 4.11 ms, sys: 4.15 ms, total: 8.26 ms\n",
      "Wall time: 145 ms\n"
     ]
    }
   ],
   "source": [
    "%%time\n",
    "## Now we come back to the head node bc we need the data now\n",
    "first_10 = sorted_counts.take(10)\n",
    "print(\"MOst 10 common words in Moby Dick:\\n\"+\"\\n\".join([f\"{k}\\t:\\t\\t\\t{v}\" for (v, k) in first_10]))"
   ],
   "metadata": {
    "collapsed": false,
    "ExecuteTime": {
     "end_time": "2023-11-20T10:34:18.129941652Z",
     "start_time": "2023-11-20T10:34:17.981866290Z"
    }
   },
   "id": "a37f67777257abe8"
  },
  {
   "cell_type": "markdown",
   "source": [
    "#### To sum up\n",
    "\n",
    "- An RDD is a distributed immutable array and is the core data structure of Spark\n",
    "- It is not possible to operate on RDD directly but through **Transformations** and **Actions**\n",
    "- **Transformations** transform an RDD into another RDD\n",
    "- **Actions** output their results on the head node\n",
    "- After the action is done you are now using the head node and no longer on the workers node.\n",
    "- RDD operations (**Transformations** and **Actions**) are added to what we call an **Execution Plan**\n",
    "- The plan is executed when the result is needed\n",
    "- It is possible to store intermediate result explicitly by using caching\n",
    "- For scalability you need to use RDDs instead of working only on the head node (Ex: finding the most common words)"
   ],
   "metadata": {
    "collapsed": false
   },
   "id": "2b57bccc91e0a596"
  },
  {
   "cell_type": "markdown",
   "source": [
    "## Meteorological data"
   ],
   "metadata": {
    "collapsed": false
   },
   "id": "15cda33599f6ab36"
  },
  {
   "cell_type": "code",
   "execution_count": 13,
   "outputs": [
    {
     "name": "stdout",
     "output_type": "stream",
     "text": [
      "%pylab is deprecated, use %matplotlib inline and import the required libraries.\n",
      "Populating the interactive namespace from numpy and matplotlib\n"
     ]
    },
    {
     "name": "stderr",
     "output_type": "stream",
     "text": [
      "/home/abdou/anaconda3/envs/pyspark-env/lib/python3.8/site-packages/pyspark/sql/context.py:113: FutureWarning: Deprecated in 3.0.0. Use SparkSession.builder.getOrCreate() instead.\n",
      "  warnings.warn(\n"
     ]
    }
   ],
   "source": [
    "from pyspark.sql import SQLContext\n",
    "from pyspark.sql.types import StructType, StructField, StringType, IntegerType\n",
    "%pylab inline\n",
    "\n",
    "sqlContext = SQLContext(sc)"
   ],
   "metadata": {
    "collapsed": false,
    "ExecuteTime": {
     "end_time": "2023-11-20T10:34:18.556114576Z",
     "start_time": "2023-11-20T10:34:18.132714056Z"
    }
   },
   "id": "51851e17982c4f6"
  },
  {
   "cell_type": "code",
   "execution_count": 14,
   "outputs": [
    {
     "name": "stdout",
     "output_type": "stream",
     "text": [
      "root\n",
      " |-- Station: string (nullable = true)\n",
      " |-- Measurement: string (nullable = true)\n",
      " |-- Year: long (nullable = true)\n",
      " |-- Values: binary (nullable = true)\n",
      " |-- dist_coast: double (nullable = true)\n",
      " |-- latitude: double (nullable = true)\n",
      " |-- longitude: double (nullable = true)\n",
      " |-- elevation: double (nullable = true)\n",
      " |-- state: string (nullable = true)\n",
      " |-- name: string (nullable = true)\n"
     ]
    }
   ],
   "source": [
    "data_path = \"../data/NY.parquet\"\n",
    "\n",
    "df = sqlContext.read.load(data_path)\n",
    "\n",
    "df.printSchema()"
   ],
   "metadata": {
    "collapsed": false,
    "ExecuteTime": {
     "end_time": "2023-11-20T10:34:20.320370040Z",
     "start_time": "2023-11-20T10:34:18.552988115Z"
    }
   },
   "id": "ddac64c2d75ad82d"
  },
  {
   "cell_type": "code",
   "execution_count": 15,
   "outputs": [
    {
     "name": "stdout",
     "output_type": "stream",
     "text": [
      "+-----------+-----------+----+--------------------+-----------------+--------------+------------------+-----------------+-----+-----------------+\n",
      "|    Station|Measurement|Year|              Values|       dist_coast|      latitude|         longitude|        elevation|state|             name|\n",
      "+-----------+-----------+----+--------------------+-----------------+--------------+------------------+-----------------+-----+-----------------+\n",
      "|USW00094704|   PRCP_s20|1945|[00 00 00 00 00 0...|361.8320007324219|42.57080078125|-77.71330261230469|208.8000030517578|   NY|DANSVILLE MUNI AP|\n",
      "+-----------+-----------+----+--------------------+-----------------+--------------+------------------+-----------------+-----+-----------------+\n"
     ]
    }
   ],
   "source": [
    "df.show(1)"
   ],
   "metadata": {
    "collapsed": false,
    "ExecuteTime": {
     "end_time": "2023-11-20T10:34:22.256580272Z",
     "start_time": "2023-11-20T10:34:20.320597323Z"
    }
   },
   "id": "ff1a25fc7bf5e3a1"
  },
  {
   "cell_type": "markdown",
   "source": [
    "#### describe columns"
   ],
   "metadata": {
    "collapsed": false
   },
   "id": "4182dc1aa18477cb"
  },
  {
   "cell_type": "code",
   "execution_count": 16,
   "outputs": [
    {
     "name": "stderr",
     "output_type": "stream",
     "text": [
      "23/11/20 11:34:22 WARN SparkStringUtils: Truncated the string representation of a plan since it was too large. This behavior can be adjusted by setting 'spark.sql.debug.maxToStringFields'.\n",
      "[Stage 15:===========================================>              (3 + 1) / 4]\r"
     ]
    },
    {
     "name": "stdout",
     "output_type": "stream",
     "text": [
      "+-------+-----------+-----------+------------------+-------------------+------------------+------------------+------------------+------+---------------+\n",
      "|summary|    Station|Measurement|              Year|         dist_coast|          latitude|         longitude|         elevation| state|           name|\n",
      "+-------+-----------+-----------+------------------+-------------------+------------------+------------------+------------------+------+---------------+\n",
      "|  count|     168398|     168398|            168398|             168398|            168398|            168398|            168398|168398|         168398|\n",
      "|   mean|       NULL|       NULL|1963.4289124573927| 245.78455113006692|  42.6842968505041| -75.4551864389521| 245.2899639266881|  NULL|           NULL|\n",
      "| stddev|       NULL|       NULL| 30.58676603214533|  129.9711278397269|1.0492530244970495|1.7907915903419556|189.69342701097085|  NULL|           NULL|\n",
      "|    min|USC00300015|       PRCP|              1871|0.04799420014023781| 39.79999923706055|-79.58560180664062|-999.9000244140625|    NY|      ADAMS CTR|\n",
      "|    max|USW00094794|   TOBS_s20|              2013| 476.80999755859375| 44.93579864501953|-71.94999694824219| 838.2000122070312|    NY|YOUNGSTOWN 2 NE|\n",
      "+-------+-----------+-----------+------------------+-------------------+------------------+------------------+------------------+------+---------------+\n"
     ]
    },
    {
     "name": "stderr",
     "output_type": "stream",
     "text": [
      "                                                                                \r"
     ]
    }
   ],
   "source": [
    "df.describe(df.columns).show()"
   ],
   "metadata": {
    "collapsed": false,
    "ExecuteTime": {
     "end_time": "2023-11-20T10:34:24.995713389Z",
     "start_time": "2023-11-20T10:34:22.254387508Z"
    }
   },
   "id": "dd3d1a0dfc105226"
  },
  {
   "cell_type": "markdown",
   "source": [
    "#### group by"
   ],
   "metadata": {
    "collapsed": false
   },
   "id": "7f5181ccf96dde15"
  },
  {
   "cell_type": "code",
   "execution_count": 17,
   "outputs": [
    {
     "name": "stdout",
     "output_type": "stream",
     "text": [
      "+-----------+---------+--------------+\n",
      "|measurement|min(year)|count(station)|\n",
      "+-----------+---------+--------------+\n",
      "|   TMIN_s20|     1873|         13442|\n",
      "|       TMIN|     1873|         13442|\n",
      "|   SNOW_s20|     1884|         15629|\n",
      "|       TOBS|     1876|         10956|\n",
      "|   SNWD_s20|     1888|         14617|\n",
      "|   PRCP_s20|     1871|         16118|\n",
      "|   TOBS_s20|     1876|         10956|\n",
      "|       TMAX|     1873|         13437|\n",
      "|       SNOW|     1884|         15629|\n",
      "|   TMAX_s20|     1873|         13437|\n",
      "|       SNWD|     1888|         14617|\n",
      "|       PRCP|     1871|         16118|\n",
      "+-----------+---------+--------------+\n"
     ]
    }
   ],
   "source": [
    "df.groupby('measurement').agg({'year': \"min\", 'station': \"count\"}).show()"
   ],
   "metadata": {
    "collapsed": false,
    "ExecuteTime": {
     "end_time": "2023-11-20T10:34:25.517713867Z",
     "start_time": "2023-11-20T10:34:24.990572456Z"
    }
   },
   "id": "102e0fe6f8b8e805"
  },
  {
   "cell_type": "code",
   "execution_count": 18,
   "outputs": [
    {
     "data": {
      "text/plain": "[Row(measurement='TMIN_s20', count=13442),\n Row(measurement='TMIN', count=13442),\n Row(measurement='SNOW_s20', count=15629),\n Row(measurement='TOBS', count=10956),\n Row(measurement='SNWD_s20', count=14617),\n Row(measurement='PRCP_s20', count=16118),\n Row(measurement='TOBS_s20', count=10956),\n Row(measurement='TMAX', count=13437),\n Row(measurement='SNOW', count=15629),\n Row(measurement='TMAX_s20', count=13437),\n Row(measurement='SNWD', count=14617),\n Row(measurement='PRCP', count=16118)]"
     },
     "execution_count": 18,
     "metadata": {},
     "output_type": "execute_result"
    }
   ],
   "source": [
    "L = df.groupby('measurement').count().collect()\n",
    "L"
   ],
   "metadata": {
    "collapsed": false,
    "ExecuteTime": {
     "end_time": "2023-11-20T10:34:25.910194153Z",
     "start_time": "2023-11-20T10:34:25.518455287Z"
    }
   },
   "id": "e1f7c3aa456a27"
  },
  {
   "cell_type": "code",
   "execution_count": 19,
   "outputs": [
    {
     "data": {
      "text/plain": "[('PRCP_s20', 16118),\n ('PRCP', 16118),\n ('SNOW_s20', 15629),\n ('SNOW', 15629),\n ('SNWD_s20', 14617),\n ('SNWD', 14617),\n ('TMIN_s20', 13442),\n ('TMIN', 13442),\n ('TMAX', 13437),\n ('TMAX_s20', 13437),\n ('TOBS', 10956),\n ('TOBS_s20', 10956)]"
     },
     "execution_count": 19,
     "metadata": {},
     "output_type": "execute_result"
    }
   ],
   "source": [
    "D = [(e.measurement, e[\"count\"]) for e in L]\n",
    "sorted(D,key= lambda c: c[1], reverse=True)"
   ],
   "metadata": {
    "collapsed": false,
    "ExecuteTime": {
     "end_time": "2023-11-20T10:34:25.920002033Z",
     "start_time": "2023-11-20T10:34:25.907605074Z"
    }
   },
   "id": "cfff20a8c3748c3f"
  },
  {
   "cell_type": "code",
   "execution_count": 20,
   "outputs": [],
   "source": [
    "sqlContext.registerDataFrameAsTable(df, \"weatherTable\") ## so that we can query on weatherTable like in old SQL"
   ],
   "metadata": {
    "collapsed": false,
    "ExecuteTime": {
     "end_time": "2023-11-20T10:34:26.006192836Z",
     "start_time": "2023-11-20T10:34:25.916165729Z"
    }
   },
   "id": "707ba913ff0e8849"
  },
  {
   "cell_type": "code",
   "execution_count": 21,
   "outputs": [
    {
     "name": "stdout",
     "output_type": "stream",
     "text": [
      "\n",
      "SELECT measurement, COUNT(measurement) as count,\n",
      "        MIN(year) as MinYear\n",
      "FROM weatherTable\n",
      "GROUP BY measurement\n",
      "ORDER BY count\n",
      "\n",
      "================================RESULT================================\n",
      "+-----------+-----+-------+\n",
      "|measurement|count|MinYear|\n",
      "+-----------+-----+-------+\n",
      "|       TOBS|10956|   1876|\n",
      "|   TOBS_s20|10956|   1876|\n",
      "|       TMAX|13437|   1873|\n",
      "|   TMAX_s20|13437|   1873|\n",
      "|   TMIN_s20|13442|   1873|\n",
      "|       TMIN|13442|   1873|\n",
      "|   SNWD_s20|14617|   1888|\n",
      "|       SNWD|14617|   1888|\n",
      "|   SNOW_s20|15629|   1884|\n",
      "|       SNOW|15629|   1884|\n",
      "|   PRCP_s20|16118|   1871|\n",
      "|       PRCP|16118|   1871|\n",
      "+-----------+-----+-------+\n"
     ]
    }
   ],
   "source": [
    "query = \"\"\"\n",
    "SELECT measurement, COUNT(measurement) as count,\n",
    "        MIN(year) as MinYear\n",
    "FROM weatherTable\n",
    "GROUP BY measurement\n",
    "ORDER BY count\n",
    "\"\"\"\n",
    "\n",
    "print(query)\n",
    "print(\"================================RESULT================================\")\n",
    "print()\n",
    "sqlContext.sql(query).show()"
   ],
   "metadata": {
    "collapsed": false,
    "ExecuteTime": {
     "end_time": "2023-11-20T10:34:26.576806916Z",
     "start_time": "2023-11-20T10:34:25.960134871Z"
    }
   },
   "id": "2c16a6560e425c4"
  },
  {
   "cell_type": "code",
   "execution_count": 21,
   "outputs": [],
   "source": [],
   "metadata": {
    "collapsed": false,
    "ExecuteTime": {
     "end_time": "2023-11-20T10:34:26.577402517Z",
     "start_time": "2023-11-20T10:34:26.566099687Z"
    }
   },
   "id": "9d6376b7229c078e"
  },
  {
   "cell_type": "markdown",
   "source": [],
   "metadata": {
    "collapsed": false
   },
   "id": "a2141f92d123628a"
  },
  {
   "cell_type": "markdown",
   "source": [
    "#### projection"
   ],
   "metadata": {
    "collapsed": false
   },
   "id": "80d683fbdecf1b58"
  },
  {
   "cell_type": "code",
   "execution_count": 22,
   "outputs": [
    {
     "name": "stdout",
     "output_type": "stream",
     "text": [
      "+-----------------+--------------------+----+\n",
      "|       dist_coast|              Values|Year|\n",
      "+-----------------+--------------------+----+\n",
      "|361.8320007324219|[00 00 00 00 00 0...|1945|\n",
      "|361.8320007324219|[99 46 52 46 0B 4...|1946|\n",
      "|361.8320007324219|[79 4C 75 4C 8F 4...|1947|\n",
      "|361.8320007324219|[72 48 7A 48 85 4...|1948|\n",
      "|361.8320007324219|[BB 49 BC 49 BD 4...|1949|\n",
      "|361.8320007324219|[6E 4B 93 4B BB 4...|1950|\n",
      "|361.8320007324219|[27 4A 32 4A 28 4...|1951|\n",
      "|361.8320007324219|[54 4B 60 4B 6A 4...|1952|\n",
      "|361.8320007324219|[48 4A 37 4A 28 4...|1953|\n",
      "|361.8320007324219|[DE 4A D4 4A CA 4...|2000|\n",
      "|361.8320007324219|[D9 44 C7 44 B6 4...|2001|\n",
      "|361.8320007324219|[CF 4B B8 4B A1 4...|2002|\n",
      "|361.8320007324219|[18 4B F1 4A D2 4...|2003|\n",
      "|361.8320007324219|[CE 4A 9C 4A 6B 4...|2004|\n",
      "|361.8320007324219|[DD 4C D3 4C C9 4...|2005|\n",
      "|361.8320007324219|[91 4B 9F 4B AC 4...|2006|\n",
      "|361.8320007324219|[39 4E 36 4E 34 4...|2007|\n",
      "|361.8320007324219|[3A 4A 11 4A EA 4...|2008|\n",
      "|361.8320007324219|[5C 4A 3F 4A 26 4...|2009|\n",
      "|361.8320007324219|[A1 48 97 48 8E 4...|2010|\n",
      "+-----------------+--------------------+----+\n"
     ]
    }
   ],
   "source": [
    "df.select(\"dist_coast\", 'Values', 'Year').show()"
   ],
   "metadata": {
    "collapsed": false,
    "ExecuteTime": {
     "end_time": "2023-11-20T10:34:26.792725315Z",
     "start_time": "2023-11-20T10:34:26.569539061Z"
    }
   },
   "id": "d6a2000bf3a784e7"
  },
  {
   "cell_type": "markdown",
   "source": [
    "#### filter"
   ],
   "metadata": {
    "collapsed": false
   },
   "id": "2ac06fa415c3e225"
  },
  {
   "cell_type": "code",
   "execution_count": 23,
   "outputs": [
    {
     "name": "stdout",
     "output_type": "stream",
     "text": [
      "+-----------+-----------+----+--------------------+-----------------+--------------+------------------+-----------------+-----+-----------------+\n",
      "|    Station|Measurement|Year|              Values|       dist_coast|      latitude|         longitude|        elevation|state|             name|\n",
      "+-----------+-----------+----+--------------------+-----------------+--------------+------------------+-----------------+-----+-----------------+\n",
      "|USW00094704|   PRCP_s20|1945|[00 00 00 00 00 0...|361.8320007324219|42.57080078125|-77.71330261230469|208.8000030517578|   NY|DANSVILLE MUNI AP|\n",
      "|USW00094704|   TMAX_s20|1945|[00 00 00 00 00 0...|361.8320007324219|42.57080078125|-77.71330261230469|208.8000030517578|   NY|DANSVILLE MUNI AP|\n",
      "|USW00094704|   SNOW_s20|1945|[00 00 00 00 00 0...|361.8320007324219|42.57080078125|-77.71330261230469|208.8000030517578|   NY|DANSVILLE MUNI AP|\n",
      "|USW00094704|   TMIN_s20|1945|[00 00 00 00 00 0...|361.8320007324219|42.57080078125|-77.71330261230469|208.8000030517578|   NY|DANSVILLE MUNI AP|\n",
      "|USW00094704|   SNWD_s20|1945|[00 00 00 00 00 0...|361.8320007324219|42.57080078125|-77.71330261230469|208.8000030517578|   NY|DANSVILLE MUNI AP|\n",
      "|USW00094704|       PRCP|1945|[00 7E 00 7E 00 7...|361.8320007324219|42.57080078125|-77.71330261230469|208.8000030517578|   NY|DANSVILLE MUNI AP|\n",
      "|USW00094704|       SNOW|1945|[00 7E 00 7E 00 7...|361.8320007324219|42.57080078125|-77.71330261230469|208.8000030517578|   NY|DANSVILLE MUNI AP|\n",
      "|USW00094704|       SNWD|1945|[00 7E 00 7E 00 7...|361.8320007324219|42.57080078125|-77.71330261230469|208.8000030517578|   NY|DANSVILLE MUNI AP|\n",
      "|USW00094704|       TMAX|1945|[00 7E 00 7E 00 7...|361.8320007324219|42.57080078125|-77.71330261230469|208.8000030517578|   NY|DANSVILLE MUNI AP|\n",
      "|USW00094704|       TMIN|1945|[00 7E 00 7E 00 7...|361.8320007324219|42.57080078125|-77.71330261230469|208.8000030517578|   NY|DANSVILLE MUNI AP|\n",
      "+-----------+-----------+----+--------------------+-----------------+--------------+------------------+-----------------+-----+-----------------+\n"
     ]
    }
   ],
   "source": [
    "df.filter((df.Year==1945 ) & (df.name==\"DANSVILLE MUNI AP\")).show()"
   ],
   "metadata": {
    "collapsed": false,
    "ExecuteTime": {
     "end_time": "2023-11-20T10:34:27.312870417Z",
     "start_time": "2023-11-20T10:34:26.794723632Z"
    }
   },
   "id": "bafd71427af926a1"
  },
  {
   "cell_type": "markdown",
   "source": [
    "#### filter and projection"
   ],
   "metadata": {
    "collapsed": false
   },
   "id": "5ad90a66b28939a7"
  },
  {
   "cell_type": "code",
   "execution_count": 24,
   "outputs": [
    {
     "name": "stdout",
     "output_type": "stream",
     "text": [
      "+-----------+--------------+------------------+-----------------+\n",
      "|    Station|      latitude|         longitude|             name|\n",
      "+-----------+--------------+------------------+-----------------+\n",
      "|USW00094704|42.57080078125|-77.71330261230469|DANSVILLE MUNI AP|\n",
      "|USW00094704|42.57080078125|-77.71330261230469|DANSVILLE MUNI AP|\n",
      "|USW00094704|42.57080078125|-77.71330261230469|DANSVILLE MUNI AP|\n",
      "|USW00094704|42.57080078125|-77.71330261230469|DANSVILLE MUNI AP|\n",
      "|USW00094704|42.57080078125|-77.71330261230469|DANSVILLE MUNI AP|\n",
      "|USW00094704|42.57080078125|-77.71330261230469|DANSVILLE MUNI AP|\n",
      "|USW00094704|42.57080078125|-77.71330261230469|DANSVILLE MUNI AP|\n",
      "|USW00094704|42.57080078125|-77.71330261230469|DANSVILLE MUNI AP|\n",
      "|USW00094704|42.57080078125|-77.71330261230469|DANSVILLE MUNI AP|\n",
      "|USW00094704|42.57080078125|-77.71330261230469|DANSVILLE MUNI AP|\n",
      "+-----------+--------------+------------------+-----------------+\n"
     ]
    }
   ],
   "source": [
    "df.filter((df.Year==1945 ) & (df.name==\"DANSVILLE MUNI AP\")).select(\"Station\", \"latitude\", \"longitude\", \"name\").show()"
   ],
   "metadata": {
    "collapsed": false,
    "ExecuteTime": {
     "end_time": "2023-11-20T10:34:27.535122021Z",
     "start_time": "2023-11-20T10:34:27.260735049Z"
    }
   },
   "id": "c3b66c44aaf613d7"
  },
  {
   "cell_type": "markdown",
   "source": [
    "### Mapping over dataframe"
   ],
   "metadata": {
    "collapsed": false
   },
   "id": "6b9d8819037be475"
  },
  {
   "cell_type": "markdown",
   "source": [
    "To perform a map operation on a DataFrame you need to transform it into an RDD before.. But this is a wrong way to do it.\n",
    "\n",
    "A better way to do it is to use built-in sparkSQL functions directly or register new ones."
   ],
   "metadata": {
    "collapsed": false
   },
   "id": "eb997d5999719e9d"
  },
  {
   "cell_type": "code",
   "execution_count": 25,
   "outputs": [
    {
     "data": {
      "text/plain": "[(-77.71330261230469, 42.57080078125),\n (-77.71330261230469, 42.57080078125),\n (-77.71330261230469, 42.57080078125),\n (-77.71330261230469, 42.57080078125),\n (-77.71330261230469, 42.57080078125)]"
     },
     "execution_count": 25,
     "metadata": {},
     "output_type": "execute_result"
    }
   ],
   "source": [
    "# Wrong way to do\n",
    "df.rdd.map(lambda row: (row.longitude, row.latitude)).take(5)"
   ],
   "metadata": {
    "collapsed": false,
    "ExecuteTime": {
     "end_time": "2023-11-20T10:34:27.782034871Z",
     "start_time": "2023-11-20T10:34:27.527483144Z"
    }
   },
   "id": "c8fab7d0b66c345d"
  },
  {
   "cell_type": "markdown",
   "source": [
    "### Aggregations\n",
    "\n",
    "\n",
    "* **Aggregation** can be used, in combination with built-in sparkSQL functions \n",
    "to compute statistics of a dataframe.\n",
    "* computation will be fast thanks to combined optimzations with database operations."
   ],
   "metadata": {
    "collapsed": false
   },
   "id": "88f6a2602995cc53"
  },
  {
   "cell_type": "code",
   "execution_count": 26,
   "outputs": [],
   "source": [
    "import pyspark.sql.functions as F"
   ],
   "metadata": {
    "collapsed": false,
    "ExecuteTime": {
     "end_time": "2023-11-20T10:34:27.782832032Z",
     "start_time": "2023-11-20T10:34:27.716131243Z"
    }
   },
   "id": "9569d60a6e3859b2"
  },
  {
   "cell_type": "code",
   "execution_count": 27,
   "outputs": [
    {
     "name": "stdout",
     "output_type": "stream",
     "text": [
      "+------------------------------+\n",
      "|approx_count_distinct(station)|\n",
      "+------------------------------+\n",
      "|                           339|\n",
      "+------------------------------+\n"
     ]
    }
   ],
   "source": [
    "# How many distinct stations do we have?\n",
    "df.agg({'station':'approx_count_distinct'}).show()"
   ],
   "metadata": {
    "collapsed": false,
    "ExecuteTime": {
     "end_time": "2023-11-20T10:34:28.222152423Z",
     "start_time": "2023-11-20T10:34:27.722726494Z"
    }
   },
   "id": "906514de84952a8"
  },
  {
   "cell_type": "markdown",
   "source": [
    "### QUantile approximation\n",
    "\n",
    "* Suppose we want to partition the years into 10 ranges\n",
    "* such that in each range we have approximately the same number of records.\n",
    "* The method `.approxQuantile` will use a sample to do this for us."
   ],
   "metadata": {
    "collapsed": false
   },
   "id": "998b4c56df9b7768"
  },
  {
   "cell_type": "code",
   "execution_count": 28,
   "outputs": [
    {
     "name": "stdout",
     "output_type": "stream",
     "text": [
      "with accuracy 0.1 [1871.0, 1926.0, 1947.0, 1957.0, 1958.0, 1966.0, 1979.0, 1985.0, 2013.0]\n",
      "with accuracy 0.01 [1917.0, 1936.0, 1948.0, 1957.0, 1965.0, 1974.0, 1983.0, 1992.0, 2002.0]\n"
     ]
    }
   ],
   "source": [
    "print(\"with accuracy 0.1\", df.approxQuantile('Year', [0.1*i for i in range(1,10)], 0.1))\n",
    "print(\"with accuracy 0.01\", df.approxQuantile('Year', [0.1*i for i in range(1,10)], 0.01))"
   ],
   "metadata": {
    "collapsed": false,
    "ExecuteTime": {
     "end_time": "2023-11-20T10:34:28.899625817Z",
     "start_time": "2023-11-20T10:34:28.214226189Z"
    }
   },
   "id": "997e11c1a28d446b"
  },
  {
   "cell_type": "markdown",
   "source": [
    "### collect the exact number of rows for each year"
   ],
   "metadata": {
    "collapsed": false
   },
   "id": "657e013cd97f019f"
  },
  {
   "cell_type": "code",
   "execution_count": 29,
   "outputs": [
    {
     "name": "stdout",
     "output_type": "stream",
     "text": [
      "DataFrame[year: bigint, NbYear: bigint]\n"
     ]
    }
   ],
   "source": [
    "### Querying the number of rows for each year\n",
    "\n",
    "query = \"\"\"\n",
    "SELECT year, COUNT(year) as NbYear\n",
    "FROM weatherTable\n",
    "GROUP BY year\n",
    "ORDER BY year\n",
    "\"\"\"\n",
    "\n",
    "counts = sqlContext.sql(query)\n",
    "\n",
    "print(counts)"
   ],
   "metadata": {
    "collapsed": false,
    "ExecuteTime": {
     "end_time": "2023-11-20T10:46:08.150313698Z",
     "start_time": "2023-11-20T10:46:08.092422883Z"
    }
   },
   "id": "c71a7ddedbd88dea"
  },
  {
   "cell_type": "code",
   "execution_count": 30,
   "outputs": [
    {
     "name": "stdout",
     "output_type": "stream",
     "text": [
      "+----+------+\n",
      "|year|NbYear|\n",
      "+----+------+\n",
      "|1871|     2|\n",
      "|1872|     2|\n",
      "|1873|     6|\n",
      "|1874|     6|\n",
      "|1875|     6|\n",
      "|1876|    14|\n",
      "|1877|    14|\n",
      "|1878|    14|\n",
      "|1879|    14|\n",
      "|1880|    14|\n",
      "|1881|    14|\n",
      "|1882|    14|\n",
      "|1883|    14|\n",
      "|1884|    16|\n",
      "|1885|    22|\n",
      "|1886|    24|\n",
      "|1887|    24|\n",
      "|1888|    40|\n",
      "|1889|    24|\n",
      "|1890|    34|\n",
      "+----+------+\n"
     ]
    }
   ],
   "source": [
    "counts.show()"
   ],
   "metadata": {
    "collapsed": false,
    "ExecuteTime": {
     "end_time": "2023-11-20T10:46:33.695011766Z",
     "start_time": "2023-11-20T10:46:33.351672667Z"
    }
   },
   "id": "4dd64301d655eb33"
  },
  {
   "cell_type": "code",
   "execution_count": 31,
   "outputs": [
    {
     "name": "stdout",
     "output_type": "stream",
     "text": [
      "Collecting pandas\r\n",
      "  Downloading pandas-2.0.3-cp38-cp38-manylinux_2_17_x86_64.manylinux2014_x86_64.whl.metadata (18 kB)\r\n",
      "Requirement already satisfied: python-dateutil>=2.8.2 in /home/abdou/anaconda3/envs/pyspark-env/lib/python3.8/site-packages (from pandas) (2.8.2)\r\n",
      "Requirement already satisfied: pytz>=2020.1 in /home/abdou/anaconda3/envs/pyspark-env/lib/python3.8/site-packages (from pandas) (2023.3.post1)\r\n",
      "Collecting tzdata>=2022.1 (from pandas)\r\n",
      "  Downloading tzdata-2023.3-py2.py3-none-any.whl (341 kB)\r\n",
      "\u001B[2K     \u001B[90m━━━━━━━━━━━━━━━━━━━━━━━━━━━━━━━━━━━━━━━\u001B[0m \u001B[32m341.8/341.8 kB\u001B[0m \u001B[31m8.4 MB/s\u001B[0m eta \u001B[36m0:00:00\u001B[0ma \u001B[36m0:00:01\u001B[0m\r\n",
      "\u001B[?25hRequirement already satisfied: numpy>=1.20.3 in /home/abdou/anaconda3/envs/pyspark-env/lib/python3.8/site-packages (from pandas) (1.24.4)\r\n",
      "Requirement already satisfied: six>=1.5 in /home/abdou/anaconda3/envs/pyspark-env/lib/python3.8/site-packages (from python-dateutil>=2.8.2->pandas) (1.16.0)\r\n",
      "Downloading pandas-2.0.3-cp38-cp38-manylinux_2_17_x86_64.manylinux2014_x86_64.whl (12.4 MB)\r\n",
      "\u001B[2K   \u001B[90m━━━━━━━━━━━━━━━━━━━━━━━━━━━━━━━━━━━━━━━━\u001B[0m \u001B[32m12.4/12.4 MB\u001B[0m \u001B[31m11.3 MB/s\u001B[0m eta \u001B[36m0:00:00\u001B[0m00:01\u001B[0m00:01\u001B[0m\r\n",
      "\u001B[?25hInstalling collected packages: tzdata, pandas\r\n",
      "Successfully installed pandas-2.0.3 tzdata-2023.3\r\n"
     ]
    }
   ],
   "source": [
    "!pip install pandas"
   ],
   "metadata": {
    "collapsed": false,
    "ExecuteTime": {
     "end_time": "2023-11-20T10:48:09.901981941Z",
     "start_time": "2023-11-20T10:48:04.239320334Z"
    }
   },
   "id": "105bc4746427173e"
  },
  {
   "cell_type": "code",
   "execution_count": 32,
   "outputs": [
    {
     "data": {
      "text/plain": "<Axes: xlabel='year'>"
     },
     "execution_count": 32,
     "metadata": {},
     "output_type": "execute_result"
    },
    {
     "data": {
      "text/plain": "<Figure size 640x480 with 1 Axes>",
      "image/png": "[encoded data removed]"
     },
     "metadata": {},
     "output_type": "display_data"
    }
   ],
   "source": [
    "import pandas as pd\n",
    "\n",
    "A = counts.toPandas()\n",
    "A.plot.line(\"year\", \"NbYear\")"
   ],
   "metadata": {
    "collapsed": false,
    "ExecuteTime": {
     "end_time": "2023-11-20T10:49:19.213311920Z",
     "start_time": "2023-11-20T10:49:18.344409071Z"
    }
   },
   "id": "4f40b8ce318d47f5"
  },
  {
   "cell_type": "markdown",
   "source": [
    "### Reading rows selectively\n",
    "Suppose we are only interested in snow measurements. We can apply an SQL query directly to the \n",
    "parquet files. As the data is organized in columnar structure, we can do the selection efficiently without loading the whole file to memory.\n",
    "\n",
    "Here the file is small, but in real applications it can consist of hundreds of millions of records. In such cases loading the data first to memory and then filtering it is very wasteful."
   ],
   "metadata": {
    "collapsed": false
   },
   "id": "57bbff511ae036db"
  },
  {
   "cell_type": "code",
   "execution_count": 36,
   "outputs": [
    {
     "name": "stdout",
     "output_type": "stream",
     "text": [
      "\n",
      "SELECT station, measurement, year\n",
      "FROM parquet.`../data/NY.parquet`\n",
      "WHERE measurement=\"SNOW\"\n",
      "\n",
      "----------------------------------------------------------------\n",
      "(15629, 3) Index(['station', 'measurement', 'year'], dtype='object')\n"
     ]
    },
    {
     "data": {
      "text/plain": "       station measurement  year\n0  USC00308600        SNOW  1932\n1  USC00308600        SNOW  1956\n2  USC00308600        SNOW  1957\n3  USC00308600        SNOW  1958\n4  USC00308600        SNOW  1959",
      "text/html": "<div>\n<style scoped>\n    .dataframe tbody tr th:only-of-type {\n        vertical-align: middle;\n    }\n\n    .dataframe tbody tr th {\n        vertical-align: top;\n    }\n\n    .dataframe thead th {\n        text-align: right;\n    }\n</style>\n<table border=\"1\" class=\"dataframe\">\n  <thead>\n    <tr style=\"text-align: right;\">\n      <th></th>\n      <th>station</th>\n      <th>measurement</th>\n      <th>year</th>\n    </tr>\n  </thead>\n  <tbody>\n    <tr>\n      <th>0</th>\n      <td>USC00308600</td>\n      <td>SNOW</td>\n      <td>1932</td>\n    </tr>\n    <tr>\n      <th>1</th>\n      <td>USC00308600</td>\n      <td>SNOW</td>\n      <td>1956</td>\n    </tr>\n    <tr>\n      <th>2</th>\n      <td>USC00308600</td>\n      <td>SNOW</td>\n      <td>1957</td>\n    </tr>\n    <tr>\n      <th>3</th>\n      <td>USC00308600</td>\n      <td>SNOW</td>\n      <td>1958</td>\n    </tr>\n    <tr>\n      <th>4</th>\n      <td>USC00308600</td>\n      <td>SNOW</td>\n      <td>1959</td>\n    </tr>\n  </tbody>\n</table>\n</div>"
     },
     "execution_count": 36,
     "metadata": {},
     "output_type": "execute_result"
    }
   ],
   "source": [
    "data_path = \"../data\"\n",
    "query = \"\"\"\n",
    "SELECT station, measurement, year\n",
    "FROM parquet.`%s.parquet`\n",
    "WHERE measurement=\\\"SNOW\\\"\n",
    "\"\"\"%(data_path+\"/NY\")\n",
    "print(query)\n",
    "print(\"----------------------------------------------------------------\")\n",
    "df = sqlContext.sql(query).toPandas()\n",
    "\n",
    "print(df.shape, df.columns)\n",
    "df.head()"
   ],
   "metadata": {
    "collapsed": false,
    "ExecuteTime": {
     "end_time": "2023-11-20T11:00:42.148298332Z",
     "start_time": "2023-11-20T11:00:41.713647165Z"
    }
   },
   "id": "c5ba23af27b2fca5"
  },
  {
   "cell_type": "code",
   "execution_count": null,
   "outputs": [],
   "source": [],
   "metadata": {
    "collapsed": false
   },
   "id": "a9b47b14df89ec4"
  },
  {
   "cell_type": "code",
   "execution_count": null,
   "outputs": [],
   "source": [],
   "metadata": {
    "collapsed": false
   },
   "id": "b595bc8d06743d4d"
  },
  {
   "cell_type": "markdown",
   "source": [
    "#### To sum up\n",
    "\n",
    "- Dataframes are an efficient way to store data tables\n",
    "- All of the values in a column have same type (it's like a table column in a DB)\n",
    "- A good way to store a dataframe in disk is to use a Parquet File format\n",
    "- Dataframe can be manipulated declaratively, which allows for more optimization\n",
    "- It's possible to refer directly to a parquet File in an SQL query"
   ],
   "metadata": {
    "collapsed": false
   },
   "id": "f84589e5a0873dbd"
  },
  {
   "cell_type": "code",
   "execution_count": 28,
   "outputs": [],
   "source": [],
   "metadata": {
    "collapsed": false,
    "ExecuteTime": {
     "end_time": "2023-11-20T10:34:28.904536676Z",
     "start_time": "2023-11-20T10:34:28.902536584Z"
    }
   },
   "id": "2bc61db65e1387ab"
  }
 ],
 "metadata": {
  "kernelspec": {
   "display_name": "Python 3",
   "language": "python",
   "name": "python3"
  },
  "language_info": {
   "codemirror_mode": {
    "name": "ipython",
    "version": 2
   },
   "file_extension": ".py",
   "mimetype": "text/x-python",
   "name": "python",
   "nbconvert_exporter": "python",
   "pygments_lexer": "ipython2",
   "version": "2.7.6"
  }
 },
 "nbformat": 4,
 "nbformat_minor": 5
}
