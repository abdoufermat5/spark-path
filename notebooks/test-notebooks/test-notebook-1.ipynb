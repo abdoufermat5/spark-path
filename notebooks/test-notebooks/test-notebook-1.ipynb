{
 "cells": [
  {
   "cell_type": "code",
   "execution_count": 1,
   "id": "initial_id",
   "metadata": {
    "collapsed": true,
    "ExecuteTime": {
     "end_time": "2023-11-18T21:30:57.488990321Z",
     "start_time": "2023-11-18T21:30:54.765537978Z"
    }
   },
   "outputs": [
    {
     "name": "stderr",
     "output_type": "stream",
     "text": [
      "23/11/18 22:30:56 WARN Utils: Your hostname, abdou-Nitro-AN515-55 resolves to a loopback address: 127.0.1.1; using 10.188.49.204 instead (on interface wlp0s20f3)\n",
      "23/11/18 22:30:56 WARN Utils: Set SPARK_LOCAL_IP if you need to bind to another address\n",
      "Setting default log level to \"WARN\".\n",
      "To adjust logging level use sc.setLogLevel(newLevel). For SparkR, use setLogLevel(newLevel).\n",
      "23/11/18 22:30:56 WARN NativeCodeLoader: Unable to load native-hadoop library for your platform... using builtin-java classes where applicable\n",
      "23/11/18 22:30:57 WARN Utils: Service 'SparkUI' could not bind on port 4040. Attempting port 4041.\n"
     ]
    }
   ],
   "source": [
    "import os\n",
    "import sys\n",
    "\n",
    "os.environ[\"PYSPARK_PYTHON\"] = sys.executable\n",
    "os.environ[\"PYSPARK_DRIVER_PYTHON\"] = sys.executable\n",
    "\n",
    "from pyspark import SparkContext, SparkConf\n",
    "\n",
    "#We can create a SparkConf() object and use it to initialize the spark context\n",
    "conf = SparkConf().setAppName(\"Test Notebook 1\").setMaster(\"local[4]\") #Initialize spark context using 4 local cores as workers\n",
    "sc = SparkContext(conf=conf)  "
   ]
  },
  {
   "cell_type": "code",
   "execution_count": 8,
   "outputs": [],
   "source": [
    "rdd = sc.parallelize([(1,1),(2,3), (1,5), (2,6), (3,4)])\n",
    "grouped_by_k = rdd.groupByKey().mapValues(lambda x: list(x))"
   ],
   "metadata": {
    "collapsed": false,
    "ExecuteTime": {
     "end_time": "2023-11-18T21:34:14.535098664Z",
     "start_time": "2023-11-18T21:34:14.512969479Z"
    }
   },
   "id": "f83aa96ef2aeb818"
  },
  {
   "cell_type": "code",
   "execution_count": 9,
   "outputs": [
    {
     "data": {
      "text/plain": "[(1, [1, 5]), (2, [3, 6]), (3, [4])]"
     },
     "execution_count": 9,
     "metadata": {},
     "output_type": "execute_result"
    }
   ],
   "source": [
    "grouped_by_k.take(3)"
   ],
   "metadata": {
    "collapsed": false,
    "ExecuteTime": {
     "end_time": "2023-11-18T21:34:15.157567010Z",
     "start_time": "2023-11-18T21:34:14.891717610Z"
    }
   },
   "id": "999624eb55d8c453"
  },
  {
   "cell_type": "code",
   "execution_count": 11,
   "outputs": [
    {
     "data": {
      "text/plain": "[(1, 0),\n (1, 1),\n (1, 2),\n (2, 2),\n (2, 3),\n (2, 4),\n (1, 4),\n (1, 5),\n (1, 6),\n (2, 5),\n (2, 6),\n (2, 7),\n (3, 3),\n (3, 4),\n (3, 5)]"
     },
     "execution_count": 11,
     "metadata": {},
     "output_type": "execute_result"
    }
   ],
   "source": [
    "rdd.flatMapValues(lambda x: list(range(x-1, x+2))).collect()"
   ],
   "metadata": {
    "collapsed": false,
    "ExecuteTime": {
     "end_time": "2023-11-18T21:38:06.729670606Z",
     "start_time": "2023-11-18T21:38:06.630610609Z"
    }
   },
   "id": "e0309c7abf797df"
  },
  {
   "cell_type": "code",
   "execution_count": 12,
   "outputs": [
    {
     "data": {
      "text/plain": "[(3, 4)]"
     },
     "execution_count": 12,
     "metadata": {},
     "output_type": "execute_result"
    }
   ],
   "source": [
    "rdd2 = sc.parallelize([(1,2), (2,5)])\n",
    "\n",
    "# return all key of rdd that is not in rdd2\n",
    "rdd.subtractByKey(rdd2).collect()"
   ],
   "metadata": {
    "collapsed": false,
    "ExecuteTime": {
     "end_time": "2023-11-18T21:40:15.536855733Z",
     "start_time": "2023-11-18T21:40:15.143056345Z"
    }
   },
   "id": "9c9d6d0348e2bf34"
  },
  {
   "cell_type": "markdown",
   "source": [
    "### working with parquet files\n",
    "\n",
    "We usually load data from files (e.g parquet files)"
   ],
   "metadata": {
    "collapsed": false
   },
   "id": "20d1d8314cd1a993"
  },
  {
   "cell_type": "code",
   "execution_count": null,
   "outputs": [],
   "source": [],
   "metadata": {
    "collapsed": false
   },
   "id": "50afba19da0ae6b3"
  }
 ],
 "metadata": {
  "kernelspec": {
   "display_name": "Python 3",
   "language": "python",
   "name": "python3"
  },
  "language_info": {
   "codemirror_mode": {
    "name": "ipython",
    "version": 2
   },
   "file_extension": ".py",
   "mimetype": "text/x-python",
   "name": "python",
   "nbconvert_exporter": "python",
   "pygments_lexer": "ipython2",
   "version": "2.7.6"
  }
 },
 "nbformat": 4,
 "nbformat_minor": 5
}
